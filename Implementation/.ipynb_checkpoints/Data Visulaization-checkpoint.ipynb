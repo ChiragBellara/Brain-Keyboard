{
 "cells": [
  {
   "cell_type": "code",
   "execution_count": 9,
   "metadata": {},
   "outputs": [],
   "source": [
    "%matplotlib inline\n",
    "import numpy as np\n",
    "import matplotlib.pyplot as plt\n",
    "from scipy import signal\n",
    "from collections import Counter\n",
    "from mne import filter\n",
    "import pandas as pd"
   ]
  },
  {
   "cell_type": "code",
   "execution_count": 11,
   "metadata": {},
   "outputs": [],
   "source": [
    "SAMPLE_FREQ = 250\n",
    "\n",
    "def prepare_data(filename, float_mean = 5):\n",
    "    ft_mean_samples = int(float_mean * SAMPLE_FREQ)\n",
    "    data = np.fromfile(filename, dtype = 'float32')\n",
    "    #print(data)\n",
    "    #data = data.reshape(-1,17)\n",
    "    #print(data)\n",
    "    df = pd.DataFrame(data)\n",
    "    print(df)"
   ]
  },
  {
   "cell_type": "code",
   "execution_count": 13,
   "metadata": {},
   "outputs": [
    {
     "name": "stdout",
     "output_type": "stream",
     "text": [
      "                   0\n",
      "0      -20469.460938\n",
      "1      -16029.957031\n",
      "2      -21377.923828\n",
      "3      -19409.541016\n",
      "4      -17503.562500\n",
      "5      -23833.666016\n",
      "6      -10573.001953\n",
      "7      -14962.705078\n",
      "8           0.000000\n",
      "9           0.945312\n",
      "10         -0.232178\n",
      "11          0.000000\n",
      "12         -0.732422\n",
      "13          0.091553\n",
      "14          0.000000\n",
      "15      10993.000000\n",
      "16          0.000000\n",
      "17     -20465.884766\n",
      "18     -16071.083984\n",
      "19     -21492.455078\n",
      "20     -19485.179688\n",
      "21     -17641.964844\n",
      "22     -23951.861328\n",
      "23     -10780.247070\n",
      "24     -14952.959961\n",
      "25          0.222168\n",
      "26          0.944336\n",
      "27         -0.233887\n",
      "28          0.457764\n",
      "29         -0.885010\n",
      "...              ...\n",
      "208356 -17591.806641\n",
      "208357 -23662.541016\n",
      "208358 -10815.473633\n",
      "208359 -15364.053711\n",
      "208360      0.241943\n",
      "208361      0.925781\n",
      "208362     -0.295898\n",
      "208363     -0.122070\n",
      "208364     -0.213623\n",
      "208365      0.427246\n",
      "208366     53.333332\n",
      "208367  12243.000000\n",
      "208368      1.000000\n",
      "208369 -20691.369141\n",
      "208370 -16081.902344\n",
      "208371 -21595.720703\n",
      "208372 -19251.201172\n",
      "208373 -17621.310547\n",
      "208374 -23683.462891\n",
      "208375 -10868.402344\n",
      "208376 -15348.497070\n",
      "208377      0.237305\n",
      "208378      0.926270\n",
      "208379     -0.295654\n",
      "208380     -0.213623\n",
      "208381     -0.213623\n",
      "208382      0.427246\n",
      "208383     53.333332\n",
      "208384  12244.000000\n",
      "208385      1.000000\n",
      "\n",
      "[208386 rows x 1 columns]\n"
     ]
    }
   ],
   "source": [
    "df = prepare_data('..\\\\Reference Project\\\\data_samples\\\\blinking\\\\both.bin')"
   ]
  },
  {
   "cell_type": "code",
   "execution_count": null,
   "metadata": {},
   "outputs": [],
   "source": []
  }
 ],
 "metadata": {
  "kernelspec": {
   "display_name": "Python 3",
   "language": "python",
   "name": "python3"
  },
  "language_info": {
   "codemirror_mode": {
    "name": "ipython",
    "version": 3
   },
   "file_extension": ".py",
   "mimetype": "text/x-python",
   "name": "python",
   "nbconvert_exporter": "python",
   "pygments_lexer": "ipython3",
   "version": "3.6.0"
  }
 },
 "nbformat": 4,
 "nbformat_minor": 2
}
