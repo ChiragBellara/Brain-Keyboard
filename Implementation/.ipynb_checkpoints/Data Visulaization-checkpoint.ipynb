{
 "cells": [
  {
   "cell_type": "code",
   "execution_count": 3,
   "metadata": {},
   "outputs": [],
   "source": [
    "%matplotlib inline\n",
    "import numpy as np\n",
    "import matplotlib.pyplot as plt\n",
    "from scipy import signal\n",
    "from collections import Counter\n",
    "from mne import filter\n",
    "import pandas as pd"
   ]
  },
  {
   "cell_type": "code",
   "execution_count": 8,
   "metadata": {},
   "outputs": [],
   "source": [
    "SAMPLE_FREQ = 250\n",
    "\n",
    "def prepare_data(filename, float_mean = 5):\n",
    "    ft_mean_samples = int(float_mean * SAMPLE_FREQ)\n",
    "    data = np.fromfile(filename, dtype = 'float32')\n",
    "    #print(data)\n",
    "    data = data.reshape(-1,17)\n",
    "    eeg = data[:,:8]\n",
    "    print(eeg.shape)\n",
    "    means = np.array([np.mean(eeg[i:ft_mean_samples+i], axis=0) for i in range(len(eeg) - ft_mean_samples)])\n",
    "    eeg = eeg[ft_mean_samples:]-means\n",
    "    for i in range(eeg.shape[1]):\n",
    "        eeg[:,i] = filter.notch_filter(x=eeg[:, i].astype(np.float64), Fs=SAMPLE_FREQ, freqs=[50], trans_bandwidth=2)\n",
    "        b, a = signal.butter(5, np.array([0.5, 30]) / (0.5 * SAMPLE_FREQ), btype='band')\n",
    "        eeg[:, i] = signal.lfilter(b, a, eeg[:, i])\n",
    "    return eeg\n",
    "#     df = pd.DataFrame(eeg)\n",
    "#     print(df)"
   ]
  },
  {
   "cell_type": "code",
   "execution_count": 9,
   "metadata": {},
   "outputs": [
    {
     "name": "stdout",
     "output_type": "stream",
     "text": [
      "(12258, 8)\n",
      "8\n"
     ]
    }
   ],
   "source": [
    "df = prepare_data('..\\\\Reference Project\\\\data_samples\\\\blinking\\\\both.bin')"
   ]
  },
  {
   "cell_type": "markdown",
   "metadata": {},
   "source": [
    "Dataset has 17 columns.\n",
    "\n",
    "3 Acceleration.\n",
    "3 Gyroscope.\n",
    "1 Battery.\n",
    "1 count.\n",
    "1 val IO.\n",
    "8 EEG.\n",
    "\n",
    "That is why we select the last columns because we want only EEG ka data"
   ]
  },
  {
   "cell_type": "code",
   "execution_count": null,
   "metadata": {},
   "outputs": [],
   "source": []
  }
 ],
 "metadata": {
  "kernelspec": {
   "display_name": "Python 3",
   "language": "python",
   "name": "python3"
  },
  "language_info": {
   "codemirror_mode": {
    "name": "ipython",
    "version": 3
   },
   "file_extension": ".py",
   "mimetype": "text/x-python",
   "name": "python",
   "nbconvert_exporter": "python",
   "pygments_lexer": "ipython3",
   "version": "3.6.0"
  }
 },
 "nbformat": 4,
 "nbformat_minor": 2
}
